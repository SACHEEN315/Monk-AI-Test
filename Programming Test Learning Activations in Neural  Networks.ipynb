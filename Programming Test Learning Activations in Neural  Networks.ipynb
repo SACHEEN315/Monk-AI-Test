{
 "cells": [
  {
   "cell_type": "markdown",
   "metadata": {},
   "source": [
    "##### Abstract—The choice of Activation Functions (AF) has proven to be an important factor that affects the performance of an Artificial Neural Network (ANN). Use a 1-hidden layer neural network model that adapts to the most suitable activation function according to the data-set. The ANN model can learn for itself the best AF to use by exploiting a flexible functional form, k0 + k1 ∗ x with parameters k0, k1 being learned from multiple runs."
   ]
  },
  {
   "cell_type": "markdown",
   "metadata": {},
   "source": [
    "##### The network we are building is using Kears and Numpy libraries \n",
    "##### The network is only 1 layer ANN model\n",
    "##### The network is build on MNIST Data set "
   ]
  },
  {
   "cell_type": "markdown",
   "metadata": {},
   "source": [
    "##### We will first build the model using the numpy libraries"
   ]
  },
  {
   "cell_type": "code",
   "execution_count": 1,
   "metadata": {},
   "outputs": [
    {
     "data": {
      "text/plain": [
       "{'DESCR': 'mldata.org dataset: mnist-original',\n",
       " 'COL_NAMES': ['label', 'data'],\n",
       " 'target': array([0., 0., 0., ..., 9., 9., 9.]),\n",
       " 'data': array([[0, 0, 0, ..., 0, 0, 0],\n",
       "        [0, 0, 0, ..., 0, 0, 0],\n",
       "        [0, 0, 0, ..., 0, 0, 0],\n",
       "        ...,\n",
       "        [0, 0, 0, ..., 0, 0, 0],\n",
       "        [0, 0, 0, ..., 0, 0, 0],\n",
       "        [0, 0, 0, ..., 0, 0, 0]], dtype=uint8)}"
      ]
     },
     "execution_count": 1,
     "metadata": {},
     "output_type": "execute_result"
    }
   ],
   "source": [
    "#importing the data set \n",
    "from sklearn.datasets import fetch_mldata\n",
    "mnist = fetch_mldata(\"MNIST original\")\n",
    "mnist"
   ]
  },
  {
   "cell_type": "code",
   "execution_count": 2,
   "metadata": {},
   "outputs": [
    {
     "name": "stdout",
     "output_type": "stream",
     "text": [
      "The shape of dataset  (70000, 784)\n",
      "The shape of target dataset (70000,)\n"
     ]
    }
   ],
   "source": [
    "#Basic data check on shape \n",
    "print(\"The shape of dataset \",mnist['data'].shape)\n",
    "print(\"The shape of target dataset\",mnist['target'].shape)"
   ]
  },
  {
   "cell_type": "code",
   "execution_count": 4,
   "metadata": {},
   "outputs": [
    {
     "data": {
      "text/plain": [
       "9.0"
      ]
     },
     "execution_count": 4,
     "metadata": {},
     "output_type": "execute_result"
    }
   ],
   "source": [
    "#View of data\n",
    "mnist['data'][0]\n",
    "mnist['target'][69999]"
   ]
  },
  {
   "cell_type": "code",
   "execution_count": 5,
   "metadata": {},
   "outputs": [],
   "source": [
    "## Importing Numpy and matplot libraries\n",
    "import matplotlib.pyplot as plt\n",
    "import numpy as np\n",
    "%matplotlib inline"
   ]
  },
  {
   "cell_type": "code",
   "execution_count": 6,
   "metadata": {},
   "outputs": [],
   "source": [
    "#lets split the data of mnist (data,target)\n",
    "X = mnist[\"data\"]\n",
    "y = mnist[\"target\"]"
   ]
  },
  {
   "cell_type": "code",
   "execution_count": 7,
   "metadata": {},
   "outputs": [],
   "source": [
    "#normalise the data \n",
    "X = X/255"
   ]
  },
  {
   "cell_type": "code",
   "execution_count": 8,
   "metadata": {},
   "outputs": [],
   "source": [
    "# we will encode the MNIST labels using one hot encoding \n",
    "digits = 10\n",
    "y_data = y.shape[0]\n",
    "y = y.reshape(1, y_data)\n",
    "Y_new = np.eye(digits)[y.astype('int32')]\n",
    "Y_new = Y_new.T.reshape(digits, y_data)"
   ]
  },
  {
   "cell_type": "code",
   "execution_count": 9,
   "metadata": {},
   "outputs": [
    {
     "name": "stdout",
     "output_type": "stream",
     "text": [
      "(10, 70000)\n"
     ]
    }
   ],
   "source": [
    "#shape of newly create dataset for y\n",
    "print(Y_new.shape)"
   ]
  },
  {
   "cell_type": "code",
   "execution_count": 10,
   "metadata": {},
   "outputs": [
    {
     "name": "stdout",
     "output_type": "stream",
     "text": [
      "(70000, 784)\n"
     ]
    }
   ],
   "source": [
    "#shape of data which is normalize\n",
    "print(X.shape)"
   ]
  },
  {
   "cell_type": "code",
   "execution_count": 11,
   "metadata": {},
   "outputs": [],
   "source": [
    "#we will split the data set and also we will shuffle it\n",
    "#np.random.permutation(10)\n",
    "#array([1, 7, 4, 3, 0, 9, 2, 5, 8, 6])\n",
    "m = 60000\n",
    "m_test = X.shape[0] - m\n",
    "\n",
    "X_train, X_test = X[:m].T, X[m:].T\n",
    "Y_train, Y_test = Y_new[:,:m], Y_new[:,m:]\n",
    "\n",
    "shuffle_index = np.random.permutation(m)\n",
    "X_train, Y_train = X_train[:, shuffle_index], Y_train[:, shuffle_index]"
   ]
  },
  {
   "cell_type": "code",
   "execution_count": 12,
   "metadata": {},
   "outputs": [
    {
     "data": {
      "image/png": "[encoded data removed]",
      "text/plain": [
       "<Figure size 432x288 with 1 Axes>"
      ]
     },
     "metadata": {},
     "output_type": "display_data"
    }
   ],
   "source": [
    "#let verfiy the data by plotting to see evrything hold correctly\n",
    "ith_data_pont = 12\n",
    "plt.imshow(X_train[:,ith_data_pont].reshape(28,28))\n",
    "plt.show()"
   ]
  },
  {
   "cell_type": "code",
   "execution_count": 13,
   "metadata": {},
   "outputs": [
    {
     "data": {
      "text/plain": [
       "array([0., 0., 0., 0., 0., 0., 0., 0., 1., 0.])"
      ]
     },
     "execution_count": 13,
     "metadata": {},
     "output_type": "execute_result"
    }
   ],
   "source": [
    "#to verfiy the same data point in the labled data\n",
    "Y_train[:,ith_data_pont]"
   ]
  },
  {
   "cell_type": "code",
   "execution_count": 14,
   "metadata": {},
   "outputs": [],
   "source": [
    "#lets define the cost function, multi class log loss, cross entropy\n",
    "def compute_multiclass_loss(Y, Y_hat):\n",
    "    #lets write the formula here to compute the log loss\n",
    "    Loss_sum = np.sum(np.multiply(Y, np.log(Y_hat)))\n",
    "    #now let us consider the all data points and divide\n",
    "    m = Y.shape[1]\n",
    "    Loss = -(1/m)*Loss_sum\n",
    "    \n",
    "    return Loss"
   ]
  },
  {
   "cell_type": "code",
   "execution_count": 15,
   "metadata": {},
   "outputs": [
    {
     "name": "stdout",
     "output_type": "stream",
     "text": [
      "(784, 60000)\n",
      "(10, 60000)\n"
     ]
    }
   ],
   "source": [
    "print(X_train.shape)\n",
    "print(Y_train.shape)"
   ]
  },
  {
   "cell_type": "code",
   "execution_count": 16,
   "metadata": {},
   "outputs": [],
   "source": [
    "#Now we will build and train the model\n",
    "#We will have one layer as said that is of 64 units, and we will define a constant learning rate of 1\n",
    "n_inputs = X_train.shape[0]\n",
    "n_hidden = 64\n",
    "learning_rate = 1\n",
    "\n",
    "#intialization of weights and baisas\n",
    "#np.random.randn np.random.randn(64,784).shape == (64, 784)\n",
    "\n",
    "W1 = np.random.randn(n_hidden,n_inputs)\n",
    "b1 = np.zeros((n_hidden,1))\n",
    "\n",
    "\n",
    "#inialization of wegihts and baisas at output layer\n",
    "#np.random.randn(10,60000).shape == (10,60000)\n",
    "\n",
    "W2 = np.random.randn(digits, n_hidden)\n",
    "b2 = np.zeros((digits, 1))\n",
    "\n",
    "X = X_train\n",
    "Y = Y_train"
   ]
  },
  {
   "cell_type": "code",
   "execution_count": 17,
   "metadata": {},
   "outputs": [],
   "source": [
    "#lets define a sigmoid function\n",
    "def sigmoid(z):\n",
    "    s = 1 / (1 + np.exp(-z))\n",
    "    return s"
   ]
  },
  {
   "cell_type": "code",
   "execution_count": 18,
   "metadata": {},
   "outputs": [
    {
     "name": "stdout",
     "output_type": "stream",
     "text": [
      "Epoch 0 cost:  6.201542529801034\n",
      "Epoch 100 cost:  0.7586632913818451\n",
      "Epoch 200 cost:  0.5713841549500944\n",
      "Epoch 300 cost:  0.4910009994674983\n",
      "Epoch 400 cost:  0.4426820493376492\n",
      "Epoch 500 cost:  0.4091403955778295\n",
      "Epoch 600 cost:  0.3838298327130884\n",
      "Epoch 700 cost:  0.3636652860668509\n",
      "Epoch 800 cost:  0.3470296284524116\n",
      "Epoch 900 cost:  0.33293914860308216\n",
      "Epoch 1000 cost:  0.3207327468081413\n",
      "Epoch 1100 cost:  0.3099645118280535\n",
      "Epoch 1200 cost:  0.3003321013193894\n",
      "Epoch 1300 cost:  0.2916247958658094\n",
      "Epoch 1400 cost:  0.283690463684207\n",
      "Epoch 1500 cost:  0.2764149314109147\n",
      "Epoch 1600 cost:  0.2697085714064211\n",
      "Epoch 1700 cost:  0.2634980335105284\n",
      "Epoch 1800 cost:  0.25772175012169823\n",
      "Epoch 1900 cost:  0.25232740129052633\n",
      "Final cost: 0.24731947596315218\n"
     ]
    }
   ],
   "source": [
    "#lets run a for loop for 2000 iteration(2000 epoch)\n",
    "keep_cost = []\n",
    "for i in range(2000):\n",
    "    \n",
    "    #Activation function, sigmoid function\n",
    "    Z1 = np.matmul(W1, X)+b1\n",
    "    A1 = sigmoid(Z1)\n",
    "    Z2 = np.matmul(W2, A1)+b2\n",
    "    A2 = np.exp(Z2) / np.sum(np.exp(Z2), axis=0)\n",
    "    \n",
    "    #compute the loss function\n",
    "    cost = compute_multiclass_loss(Y, A2)\n",
    "    \n",
    "    #Upadte the weights, by finding the derivatives\n",
    "    \n",
    "    dZ2 = A2-Y\n",
    "    dW2 = (1./m) * np.matmul(dZ2, A1.T)\n",
    "    db2 = (1./m) * np.sum(dZ2, axis=1, keepdims=True)\n",
    "    \n",
    "    dA1 = np.matmul(W2.T, dZ2)\n",
    "    dZ1 = dA1 * sigmoid(Z1) * (1 - sigmoid(Z1))\n",
    "    dW1 = (1./m) * np.matmul(dZ1, X.T)\n",
    "    db1 = (1./m) * np.sum(dZ1, axis=1, keepdims=True)\n",
    "    \n",
    "    W2 = W2 - learning_rate * dW2\n",
    "    b2 = b2 - learning_rate * db2\n",
    "    W1 = W1 - learning_rate * dW1\n",
    "    b1 = b1 - learning_rate * db1\n",
    "    \n",
    "    if (i % 100 == 0):\n",
    "        keep_cost.append(cost)\n",
    "        print(\"Epoch\", i, \"cost: \", cost)\n",
    "        \n",
    "\n",
    "print(\"Final cost:\", cost)"
   ]
  },
  {
   "cell_type": "code",
   "execution_count": 19,
   "metadata": {},
   "outputs": [],
   "source": [
    "def plt_dynamic(x, cost, ax, colors=['b']):\n",
    "    ax.plot(x, cost, 'b', label=\"Train loss\")\n",
    "    plt.legend()\n",
    "    plt.grid()\n",
    "    fig.canvas.draw()"
   ]
  },
  {
   "cell_type": "code",
   "execution_count": 20,
   "metadata": {},
   "outputs": [
    {
     "data": {
      "image/png": "[encoded data removed]",
      "text/plain": [
       "<Figure size 432x288 with 1 Axes>"
      ]
     },
     "metadata": {},
     "output_type": "display_data"
    }
   ],
   "source": [
    "#Plot the graph epoch vs loss\n",
    "fig,ax=plt.subplots(1,1)\n",
    "ax.set_xlabel('epoch');\n",
    "ax.set_ylabel('Categorical Crossentropy Loss')\n",
    "#list of epoch numbers\n",
    "x = list(range(0,2000,100))\n",
    "\n",
    "#print(history.history.keys())\n",
    "cost = keep_cost\n",
    "\n",
    "plt_dynamic(x, cost, ax)"
   ]
  },
  {
   "cell_type": "code",
   "execution_count": 21,
   "metadata": {},
   "outputs": [
    {
     "name": "stdout",
     "output_type": "stream",
     "text": [
      "[[ 955    0   10    4    1   12   13    5    9    6]\n",
      " [   0 1108    3    2    5    2    4    6    4    4]\n",
      " [   2    2  941   20    6    8    7   32   15    3]\n",
      " [   3    7   12  912    2   28    0    4   30   13]\n",
      " [   0    0    8    1  911    4   13    5    7   47]\n",
      " [   7    0    4   20    2  784   17    2   16    4]\n",
      " [   9    3   16    3   10   14  894    0   15    3]\n",
      " [   3    2   11   18    5    8    4  945   11   22]\n",
      " [   1   12   26   25    6   22    6    2  854   14]\n",
      " [   0    1    1    5   34   10    0   27   13  893]]\n",
      "             precision    recall  f1-score   support\n",
      "\n",
      "          0       0.97      0.94      0.96      1015\n",
      "          1       0.98      0.97      0.97      1138\n",
      "          2       0.91      0.91      0.91      1036\n",
      "          3       0.90      0.90      0.90      1011\n",
      "          4       0.93      0.91      0.92       996\n",
      "          5       0.88      0.92      0.90       856\n",
      "          6       0.93      0.92      0.93       967\n",
      "          7       0.92      0.92      0.92      1029\n",
      "          8       0.88      0.88      0.88       968\n",
      "          9       0.89      0.91      0.90       984\n",
      "\n",
      "avg / total       0.92      0.92      0.92     10000\n",
      "\n"
     ]
    }
   ],
   "source": [
    "# Now lets see how did we perform on the network which we build up\n",
    "# we will take the updated weights\n",
    "# metrics such as precision    recall  f1-score \n",
    "from sklearn.metrics import confusion_matrix,classification_report\n",
    "\n",
    "Z1 = np.matmul(W1, X_test) + b1\n",
    "A1 = sigmoid(Z1)\n",
    "Z2 = np.matmul(W2, A1) + b2\n",
    "A2 = np.exp(Z2) / np.sum(np.exp(Z2), axis=0)\n",
    "\n",
    "predictions = np.argmax(A2, axis=0)\n",
    "labels = np.argmax(Y_test, axis=0)\n",
    "\n",
    "print(confusion_matrix(predictions, labels))\n",
    "print(classification_report(predictions, labels))"
   ]
  },
  {
   "cell_type": "markdown",
   "metadata": {},
   "source": [
    "##### we will try to build the same network using mini batch gradient descent  \n",
    "##### we will use momentum+graident descent \n",
    "##### we will change the way of initalization from random normal to smarter initialization."
   ]
  },
  {
   "cell_type": "code",
   "execution_count": 23,
   "metadata": {},
   "outputs": [],
   "source": [
    "from sklearn.datasets import fetch_mldata\n",
    "from sklearn.metrics import classification_report, confusion_matrix\n",
    "import numpy as np\n",
    "\n",
    "# import\n",
    "mnist = fetch_mldata('MNIST original')\n",
    "X, y = mnist[\"data\"], mnist[\"target\"]\n",
    "\n",
    "# scale\n",
    "X = X / 255\n",
    "\n",
    "# one-hot encode labels\n",
    "digits = 10\n",
    "y_data = y.shape[0]\n",
    "y = y.reshape(1, y_data)\n",
    "Y_new = np.eye(digits)[y.astype('int32')]\n",
    "Y_new = Y_new.T.reshape(digits, y_data)\n",
    "\n",
    "# split, reshape, shuffle\n",
    "m = 60000\n",
    "m_test = X.shape[0] - m\n",
    "X_train, X_test = X[:m].T, X[m:].T\n",
    "Y_train, Y_test = Y_new[:,:m], Y_new[:,m:]\n",
    "shuffle_index = np.random.permutation(m)\n",
    "X_train, Y_train = X_train[:, shuffle_index], Y_train[:, shuffle_index]"
   ]
  },
  {
   "cell_type": "code",
   "execution_count": 24,
   "metadata": {},
   "outputs": [],
   "source": [
    "## we will define all the utility functions here\n",
    "## Sigmoid function to calculate the sigmoid of the data at given point\n",
    "## We will compute the categorical loss considering mutliclass\n",
    "## we will define our feed forward network\n",
    "## We will define our back propogation netwrok\n",
    "\n",
    "## Here we are updating using dictonary{key:value}\n",
    "\n",
    "def sigmoid(z):\n",
    "    s = 1. / (1. + np.exp(-z))\n",
    "    return s\n",
    "\n",
    "def compute_loss(Y, Y_hat):\n",
    "\n",
    "    L_sum = np.sum(np.multiply(Y, np.log(Y_hat)))\n",
    "    m = Y.shape[1]\n",
    "    L = -(1./m) * L_sum\n",
    "\n",
    "    return L\n",
    "\n",
    "def feed_forward(X, params):\n",
    "\n",
    "    cache = {}\n",
    "\n",
    "    cache[\"Z1\"] = np.matmul(params[\"W1\"], X) + params[\"b1\"]\n",
    "    cache[\"A1\"] = sigmoid(cache[\"Z1\"])\n",
    "    cache[\"Z2\"] = np.matmul(params[\"W2\"], cache[\"A1\"]) + params[\"b2\"]\n",
    "    cache[\"A2\"] = np.exp(cache[\"Z2\"]) / np.sum(np.exp(cache[\"Z2\"]), axis=0)\n",
    "\n",
    "    return cache\n",
    "\n",
    "def back_propagate(X, Y, params, cache):\n",
    "\n",
    "    dZ2 = cache[\"A2\"] - Y\n",
    "    dW2 = (1./m_batch) * np.matmul(dZ2, cache[\"A1\"].T)\n",
    "    db2 = (1./m_batch) * np.sum(dZ2, axis=1, keepdims=True)\n",
    "\n",
    "    dA1 = np.matmul(params[\"W2\"].T, dZ2)\n",
    "    dZ1 = dA1 * sigmoid(cache[\"Z1\"]) * (1 - sigmoid(cache[\"Z1\"]))\n",
    "    dW1 = (1./m_batch) * np.matmul(dZ1, X.T)\n",
    "    db1 = (1./m_batch) * np.sum(dZ1, axis=1, keepdims=True)\n",
    "\n",
    "    grads = {\"dW1\": dW1, \"db1\": db1, \"dW2\": dW2, \"db2\": db2}\n",
    "\n",
    "    return grads"
   ]
  },
  {
   "cell_type": "code",
   "execution_count": 25,
   "metadata": {},
   "outputs": [
    {
     "name": "stdout",
     "output_type": "stream",
     "text": [
      "Epoch 1: traing cost = 0.15866839487761608, test cost = 0.1635872781963415\n",
      "Epoch 2: traing cost = 0.09969811584412969, test cost = 0.11041205136093807\n",
      "Epoch 3: traing cost = 0.0814434268243597, test cost = 0.1016097287656573\n",
      "Epoch 4: traing cost = 0.062399481445807294, test cost = 0.09456419173108928\n",
      "Epoch 5: traing cost = 0.0546109939835294, test cost = 0.08982311032575171\n",
      "Epoch 6: traing cost = 0.04378092614203725, test cost = 0.08216910973127357\n",
      "Epoch 7: traing cost = 0.04347141790998355, test cost = 0.09147654029498646\n",
      "Epoch 8: traing cost = 0.0324295259506281, test cost = 0.08497678138180462\n",
      "Epoch 9: traing cost = 0.025072575421196477, test cost = 0.08049882198658984\n",
      "Done.\n"
     ]
    }
   ],
   "source": [
    "### Now we will define all the parameters here\n",
    "### the number of hidden layers\n",
    "### the number of units in the hidden layer\n",
    "### initialisation of the weights and biases\n",
    "### number of epochs\n",
    "### batch size\n",
    "### learning rate\n",
    "### since we are using momentum + GD we will define a parameter beta\n",
    "\n",
    "n_inputs = X_train.shape[0]\n",
    "n_hidden = 64\n",
    "learning_rate = 4\n",
    "beta = .9\n",
    "batch_size = 128\n",
    "batches = -(-m // batch_size)\n",
    "keep_test = []\n",
    "keep_train = []\n",
    "\n",
    "# initialization\n",
    "params = { \"W1\": np.random.randn(n_hidden, n_inputs) * np.sqrt(1. / n_inputs),\n",
    "           \"b1\": np.zeros((n_hidden, 1)) * np.sqrt(1. / n_inputs),\n",
    "           \"W2\": np.random.randn(digits, n_hidden) * np.sqrt(1. / n_hidden),\n",
    "           \"b2\": np.zeros((digits, 1)) * np.sqrt(1. / n_hidden) }\n",
    "\n",
    "V_dW1 = np.zeros(params[\"W1\"].shape)\n",
    "V_db1 = np.zeros(params[\"b1\"].shape)\n",
    "V_dW2 = np.zeros(params[\"W2\"].shape)\n",
    "V_db2 = np.zeros(params[\"b2\"].shape)\n",
    "\n",
    "# train\n",
    "for i in range(9):\n",
    "\n",
    "    permutation = np.random.permutation(X_train.shape[1])\n",
    "    X_train_shuffled = X_train[:, permutation]\n",
    "    Y_train_shuffled = Y_train[:, permutation]\n",
    "\n",
    "    for j in range(batches):\n",
    "\n",
    "        begin = j * batch_size\n",
    "        end = min(begin + batch_size, X_train.shape[1] - 1)\n",
    "        X = X_train_shuffled[:, begin:end]\n",
    "        Y = Y_train_shuffled[:, begin:end]\n",
    "        m_batch = end - begin\n",
    "\n",
    "        cache = feed_forward(X, params)\n",
    "        grads = back_propagate(X, Y, params, cache)\n",
    "\n",
    "        V_dW1 = (beta * V_dW1 + (1. - beta) * grads[\"dW1\"])\n",
    "        V_db1 = (beta * V_db1 + (1. - beta) * grads[\"db1\"])\n",
    "        V_dW2 = (beta * V_dW2 + (1. - beta) * grads[\"dW2\"])\n",
    "        V_db2 = (beta * V_db2 + (1. - beta) * grads[\"db2\"])\n",
    "\n",
    "        params[\"W1\"] = params[\"W1\"] - learning_rate * V_dW1\n",
    "        params[\"b1\"] = params[\"b1\"] - learning_rate * V_db1\n",
    "        params[\"W2\"] = params[\"W2\"] - learning_rate * V_dW2\n",
    "        params[\"b2\"] = params[\"b2\"] - learning_rate * V_db2\n",
    "\n",
    "    cache = feed_forward(X_train, params)\n",
    "    train_cost = compute_loss(Y_train, cache[\"A2\"])\n",
    "    cache = feed_forward(X_test, params)\n",
    "    test_cost = compute_loss(Y_test, cache[\"A2\"])\n",
    "    keep_train.append(train_cost)\n",
    "    keep_test.append(test_cost)\n",
    "    print(\"Epoch {}: traing cost = {}, test cost = {}\".format(i+1 ,train_cost, test_cost))\n",
    "\n",
    "print(\"Done.\")"
   ]
  },
  {
   "cell_type": "code",
   "execution_count": 26,
   "metadata": {},
   "outputs": [
    {
     "data": {
      "image/png": "[encoded data removed]",
      "text/plain": [
       "<Figure size 432x288 with 1 Axes>"
      ]
     },
     "metadata": {},
     "output_type": "display_data"
    }
   ],
   "source": [
    "#Plot epoch vs loss\n",
    "def plt_dynamic(x, te, tr, ax, colors=['b']):\n",
    "    ax.plot(x, te, 'b', label=\"Test loss\")\n",
    "    ax.plot(x, tr, 'r', label=\"Train loss\")\n",
    "    plt.legend()\n",
    "    plt.grid()\n",
    "    fig.canvas.draw()\n",
    "    \n",
    "fig,ax=plt.subplots(1,1)\n",
    "ax.set_xlabel('epoch');\n",
    "ax.set_ylabel('Categorical Crossentropy Loss')\n",
    "\n",
    "#list of epoch numbers\n",
    "x = list(range(1,9+1))\n",
    "\n",
    "#print(history.history.keys())\n",
    "te = keep_test\n",
    "tr = keep_train\n",
    "plt_dynamic(x, te, tr, ax)"
   ]
  },
  {
   "cell_type": "code",
   "execution_count": 27,
   "metadata": {},
   "outputs": [
    {
     "name": "stdout",
     "output_type": "stream",
     "text": [
      "             precision    recall  f1-score   support\n",
      "\n",
      "          0       0.99      0.97      0.98       994\n",
      "          1       0.99      0.99      0.99      1134\n",
      "          2       0.98      0.98      0.98      1025\n",
      "          3       0.98      0.95      0.97      1043\n",
      "          4       0.97      0.96      0.97       988\n",
      "          5       0.97      0.97      0.97       896\n",
      "          6       0.96      0.98      0.97       939\n",
      "          7       0.97      0.98      0.97      1016\n",
      "          8       0.96      0.98      0.97       956\n",
      "          9       0.97      0.97      0.97      1009\n",
      "\n",
      "avg / total       0.97      0.97      0.97     10000\n",
      "\n"
     ]
    }
   ],
   "source": [
    "## Metrics precision recall f1-score\n",
    "\n",
    "cache = feed_forward(X_test, params)\n",
    "predictions = np.argmax(cache[\"A2\"], axis=0)\n",
    "labels = np.argmax(Y_test, axis=0)\n",
    "\n",
    "print(classification_report(predictions, labels))"
   ]
  },
  {
   "cell_type": "markdown",
   "metadata": {},
   "source": [
    "# USING KERAS"
   ]
  },
  {
   "cell_type": "code",
   "execution_count": 28,
   "metadata": {},
   "outputs": [
    {
     "name": "stderr",
     "output_type": "stream",
     "text": [
      "C:\\Users\\SACHEEN\\Anaconda3\\lib\\site-packages\\h5py\\__init__.py:36: FutureWarning: Conversion of the second argument of issubdtype from `float` to `np.floating` is deprecated. In future, it will be treated as `np.float64 == np.dtype(float).type`.\n",
      "  from ._conv import register_converters as _register_converters\n",
      "C:\\Users\\SACHEEN\\Anaconda3\\lib\\site-packages\\requests\\__init__.py:80: RequestsDependencyWarning: urllib3 (1.25.9) or chardet (3.0.4) doesn't match a supported version!\n",
      "  RequestsDependencyWarning)\n"
     ]
    }
   ],
   "source": [
    "import tensorflow as tf\n",
    "from tensorflow.keras import utils\n",
    "from tensorflow.keras.datasets import mnist\n",
    "import seaborn as sns\n",
    "from tensorflow.keras.initializers import RandomNormal"
   ]
  },
  {
   "cell_type": "code",
   "execution_count": 29,
   "metadata": {},
   "outputs": [],
   "source": [
    "import matplotlib.pyplot as plt\n",
    "%matplotlib inline\n",
    "import numpy as np"
   ]
  },
  {
   "cell_type": "code",
   "execution_count": 30,
   "metadata": {},
   "outputs": [],
   "source": [
    "# this function is used to update the plots for each epoch and error\n",
    "def plt_dynamic(x, vy, ty, ax, colors=['b']):\n",
    "    ax.plot(x, vy, 'b', label=\"Validation loss\")\n",
    "    ax.plot(x, ty, 'r', label=\"Train loss\")\n",
    "    plt.legend()\n",
    "    plt.grid()\n",
    "    fig.canvas.draw()"
   ]
  },
  {
   "cell_type": "code",
   "execution_count": 31,
   "metadata": {},
   "outputs": [
    {
     "name": "stdout",
     "output_type": "stream",
     "text": [
      "Number of training examples : 60000 and each image is of shape (28, 28)\n",
      "Number of training examples : 10000 and each image is of shape (28, 28)\n",
      "Number of training examples : 60000 and each image is of shape (784)\n",
      "Number of training examples : 10000 and each image is of shape (784)\n"
     ]
    }
   ],
   "source": [
    "# the data, shuffled and split between train and test sets\n",
    "(X_train, y_train),(X_test, y_test)= mnist.load_data()\n",
    "\n",
    "print(\"Number of training examples :\", X_train.shape[0], \"and each image is of shape (%d, %d)\"%(X_train.shape[1], X_train.shape[2]))\n",
    "print(\"Number of training examples :\", X_test.shape[0], \"and each image is of shape (%d, %d)\"%(X_test.shape[1], X_test.shape[2]))\n",
    "\n",
    "# if you observe the input shape its 2 dimensional vector\n",
    "# for each image we have a (28*28) vector\n",
    "# we will convert the (28*28) vector into single dimensional vector of 1 * 784 \n",
    "\n",
    "X_train = X_train.reshape(X_train.shape[0], X_train.shape[1]*X_train.shape[2])\n",
    "X_test = X_test.reshape(X_test.shape[0], X_test.shape[1]*X_test.shape[2])\n",
    "\n",
    " # after converting the input images from 3d to 2d vectors\n",
    "print(\"Number of training examples :\", X_train.shape[0], \"and each image is of shape (%d)\"%(X_train.shape[1]))\n",
    "print(\"Number of training examples :\", X_test.shape[0], \"and each image is of shape (%d)\"%(X_test.shape[1]))"
   ]
  },
  {
   "cell_type": "code",
   "execution_count": 32,
   "metadata": {},
   "outputs": [],
   "source": [
    "# if we observe the above matrix each cell is having a value between 0-255\n",
    "# before we move to apply machine learning algorithms lets try to normalize the data\n",
    "# X => (X - Xmin)/(Xmax-Xmin) = X/255\n",
    "X_train = X_train/255\n",
    "X_test = X_test/255"
   ]
  },
  {
   "cell_type": "code",
   "execution_count": 33,
   "metadata": {},
   "outputs": [
    {
     "name": "stdout",
     "output_type": "stream",
     "text": [
      "Class label of first image :  5\n",
      "After converting the output into a vector :  [0. 0. 0. 0. 0. 1. 0. 0. 0. 0.]\n"
     ]
    }
   ],
   "source": [
    "#here we are having class number for each image \n",
    "print(\"Class label of first image : \", y_train[0])\n",
    "\n",
    "#lets convert this into 10 dimension vector \n",
    "#ex :  consider an image is 5 convert it into 5 => [0, 0, 0, 0, 0, 1, 0, 0, 0, 0]\n",
    "# this conversion needed for MLPs \n",
    "\n",
    "Y_train = utils.to_categorical(y_train, 10)\n",
    "Y_test = utils.to_categorical(y_test,10)\n",
    "\n",
    "# this conversion needed for MLPs \n",
    "print(\"After converting the output into a vector : \",Y_train[0])"
   ]
  },
  {
   "cell_type": "markdown",
   "metadata": {},
   "source": [
    "# Softmax classifier"
   ]
  },
  {
   "cell_type": "code",
   "execution_count": 34,
   "metadata": {},
   "outputs": [
    {
     "name": "stdout",
     "output_type": "stream",
     "text": [
      "WARNING:tensorflow:From C:\\Users\\SACHEEN\\Anaconda3\\lib\\site-packages\\tensorflow\\python\\ops\\resource_variable_ops.py:435: colocate_with (from tensorflow.python.framework.ops) is deprecated and will be removed in a future version.\n",
      "Instructions for updating:\n",
      "Colocations handled automatically by placer.\n"
     ]
    }
   ],
   "source": [
    "# The Sequential model is a linear stack of layers.\n",
    "# you can create a Sequential model by passing a list of layer instances to the constructor:\n",
    "# model = Sequential([\n",
    "# Dense(32, input_shape=(784,)),\n",
    "# Activation('relu'),\n",
    "# Dense(10),\n",
    "# Activation('softmax'),\n",
    "# ])\n",
    "# there are many activation functions ar available ex: tanh, relu, softmax\n",
    "from tensorflow.keras.models import Sequential\n",
    "from tensorflow.keras.layers import Dense, Activation\n",
    "\n",
    "#some model parameters\n",
    "\n",
    "output_dim = 10\n",
    "input_dim = X_train.shape[1]\n",
    "\n",
    "batch_size = 128\n",
    "nb_epoch = 20\n",
    "\n",
    "#start building the model\n",
    "\n",
    "model = Sequential()\n",
    "# The model needs to know what input shape it should expect. \n",
    "# For this reason, the first layer in a Sequential model \n",
    "# (and only the first, because following layers can do automatic shape inference)\n",
    "# needs to receive information about its input shape. \n",
    "# you can use input_shape and input_dim to pass the shape of input\n",
    "# output_dim represent the number of nodes need in that layer\n",
    "# here we have 10 nodes\n",
    "\n",
    "model.add(Dense(output_dim, input_dim=input_dim, activation='softmax'))"
   ]
  },
  {
   "cell_type": "markdown",
   "metadata": {},
   "source": [
    "##### Before training a model, you need to configure the learning process, which is done via the compile method . It receives three arguments .An optimizer. This could be the string identifier of an existing optimizer . A loss function. This is the objective that the model will try to minimize.A list of metrics. For any classification problem you will want to set this to metrics=['accuracy']"
   ]
  },
  {
   "cell_type": "code",
   "execution_count": 35,
   "metadata": {},
   "outputs": [
    {
     "name": "stdout",
     "output_type": "stream",
     "text": [
      "Train on 60000 samples, validate on 10000 samples\n",
      "WARNING:tensorflow:From C:\\Users\\SACHEEN\\Anaconda3\\lib\\site-packages\\tensorflow\\python\\ops\\math_ops.py:3066: to_int32 (from tensorflow.python.ops.math_ops) is deprecated and will be removed in a future version.\n",
      "Instructions for updating:\n",
      "Use tf.cast instead.\n",
      "Epoch 1/20\n",
      "60000/60000 [==============================] - 2s 29us/sample - loss: 1.2995 - acc: 0.6847 - val_loss: 0.8186 - val_acc: 0.8278\n",
      "Epoch 2/20\n",
      "60000/60000 [==============================] - 1s 22us/sample - loss: 0.7215 - acc: 0.8380 - val_loss: 0.6101 - val_acc: 0.8614\n",
      "Epoch 3/20\n",
      "60000/60000 [==============================] - 1s 22us/sample - loss: 0.5895 - acc: 0.8595 - val_loss: 0.5270 - val_acc: 0.8737\n",
      "Epoch 4/20\n",
      "60000/60000 [==============================] - 2s 27us/sample - loss: 0.5265 - acc: 0.8691 - val_loss: 0.4802 - val_acc: 0.8808\n",
      "Epoch 5/20\n",
      "60000/60000 [==============================] - 1s 22us/sample - loss: 0.4883 - acc: 0.8760 - val_loss: 0.4496 - val_acc: 0.8863\n",
      "Epoch 6/20\n",
      "60000/60000 [==============================] - 1s 22us/sample - loss: 0.4621 - acc: 0.8805 - val_loss: 0.4287 - val_acc: 0.8890\n",
      "Epoch 7/20\n",
      "60000/60000 [==============================] - 1s 23us/sample - loss: 0.4427 - acc: 0.8833 - val_loss: 0.4121 - val_acc: 0.8922\n",
      "Epoch 8/20\n",
      "60000/60000 [==============================] - 1s 22us/sample - loss: 0.4276 - acc: 0.8862 - val_loss: 0.3996 - val_acc: 0.8946\n",
      "Epoch 9/20\n",
      "60000/60000 [==============================] - 2s 27us/sample - loss: 0.4155 - acc: 0.8887 - val_loss: 0.3885 - val_acc: 0.8972\n",
      "Epoch 10/20\n",
      "60000/60000 [==============================] - 1s 20us/sample - loss: 0.4054 - acc: 0.8909 - val_loss: 0.3803 - val_acc: 0.8985\n",
      "Epoch 11/20\n",
      "60000/60000 [==============================] - 1s 25us/sample - loss: 0.3969 - acc: 0.8929 - val_loss: 0.3730 - val_acc: 0.9009\n",
      "Epoch 12/20\n",
      "60000/60000 [==============================] - 1s 21us/sample - loss: 0.3896 - acc: 0.8946 - val_loss: 0.3663 - val_acc: 0.9019\n",
      "Epoch 13/20\n",
      "60000/60000 [==============================] - 1s 21us/sample - loss: 0.3832 - acc: 0.8957 - val_loss: 0.3608 - val_acc: 0.9032\n",
      "Epoch 14/20\n",
      "60000/60000 [==============================] - 1s 21us/sample - loss: 0.3775 - acc: 0.8975 - val_loss: 0.3563 - val_acc: 0.9039\n",
      "Epoch 15/20\n",
      "60000/60000 [==============================] - 1s 25us/sample - loss: 0.3725 - acc: 0.8984 - val_loss: 0.3516 - val_acc: 0.9054\n",
      "Epoch 16/20\n",
      "60000/60000 [==============================] - 1s 21us/sample - loss: 0.3680 - acc: 0.8997 - val_loss: 0.3475 - val_acc: 0.9056\n",
      "Epoch 17/20\n",
      "60000/60000 [==============================] - 1s 21us/sample - loss: 0.3639 - acc: 0.9008 - val_loss: 0.3440 - val_acc: 0.9066\n",
      "Epoch 18/20\n",
      "60000/60000 [==============================] - 1s 21us/sample - loss: 0.3602 - acc: 0.9011 - val_loss: 0.3408 - val_acc: 0.9073\n",
      "Epoch 19/20\n",
      "60000/60000 [==============================] - 1s 21us/sample - loss: 0.3567 - acc: 0.9022 - val_loss: 0.3379 - val_acc: 0.9081\n",
      "Epoch 20/20\n",
      "60000/60000 [==============================] - 1s 21us/sample - loss: 0.3536 - acc: 0.9027 - val_loss: 0.3351 - val_acc: 0.9087\n"
     ]
    }
   ],
   "source": [
    "model.compile(optimizer='sgd',loss='categorical_crossentropy',metrics=['accuracy'])\n",
    "\n",
    "history = model.fit(X_train, Y_train, batch_size=batch_size, epochs=nb_epoch, verbose=1, validation_data=(X_test,Y_test))"
   ]
  },
  {
   "cell_type": "code",
   "execution_count": 36,
   "metadata": {},
   "outputs": [
    {
     "name": "stdout",
     "output_type": "stream",
     "text": [
      "Test Score 0.33507866705656053\n",
      "Test Accuracy 0.9087\n"
     ]
    },
    {
     "data": {
      "image/png": "[encoded data removed]",
      "text/plain": [
       "<Figure size 432x288 with 1 Axes>"
      ]
     },
     "metadata": {},
     "output_type": "display_data"
    }
   ],
   "source": [
    "score = model.evaluate(X_test,Y_test,verbose=0)\n",
    "print(\"Test Score\", score[0])\n",
    "print(\"Test Accuracy\", score[1])\n",
    "\n",
    "fig,ax=plt.subplots(1,1)\n",
    "ax.set_xlabel('epoch');\n",
    "ax.set_ylabel('Categorical Crossentropy Loss')\n",
    "\n",
    "#list of epoch numbers\n",
    "x = list(range(1,nb_epoch+1))\n",
    "\n",
    "#print(history.history.keys())\n",
    "vy = history.history['val_loss']\n",
    "ty = history.history['loss']\n",
    "plt_dynamic(x, vy, ty, ax)"
   ]
  },
  {
   "cell_type": "code",
   "execution_count": null,
   "metadata": {},
   "outputs": [],
   "source": []
  }
 ],
 "metadata": {
  "kernelspec": {
   "display_name": "Python 3",
   "language": "python",
   "name": "python3"
  },
  "language_info": {
   "codemirror_mode": {
    "name": "ipython",
    "version": 3
   },
   "file_extension": ".py",
   "mimetype": "text/x-python",
   "name": "python",
   "nbconvert_exporter": "python",
   "pygments_lexer": "ipython3",
   "version": "3.6.5"
  }
 },
 "nbformat": 4,
 "nbformat_minor": 2
}
